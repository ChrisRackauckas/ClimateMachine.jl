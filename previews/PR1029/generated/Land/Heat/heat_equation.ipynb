{
 "cells": [
  {
   "cell_type": "markdown",
   "source": [
    "# Heat equation tutorial"
   ],
   "metadata": {}
  },
  {
   "cell_type": "markdown",
   "source": [
    "In this tutorial, we'll be solving the [heat equation](https://en.wikipedia.org/wiki/Heat_equation):"
   ],
   "metadata": {}
  },
  {
   "cell_type": "markdown",
   "source": [
    "``\n",
    "\\frac{∂ ρcT}{∂ t} + ∇ ⋅ (-α ∇ρcT) = 0\n",
    "``"
   ],
   "metadata": {}
  },
  {
   "cell_type": "markdown",
   "source": [
    "where\n",
    " - `t` is time\n",
    " - `α` is the thermal diffusivity\n",
    " - `T` is the temperature\n",
    " - `ρ` is the density\n",
    " - `c` is the heat capacity\n",
    " - `ρcT` is the thermal energy"
   ],
   "metadata": {}
  },
  {
   "cell_type": "markdown",
   "source": [
    "To put this in the form of ClimateMachine's `BalanceLaw`, we'll re-write the equation as:"
   ],
   "metadata": {}
  },
  {
   "cell_type": "markdown",
   "source": [
    "``\n",
    "\\frac{∂ ρcT}{∂ t} + ∇ ⋅ (F(α, ρcT, t)) = 0\n",
    "``"
   ],
   "metadata": {}
  },
  {
   "cell_type": "markdown",
   "source": [
    "where\n",
    " - ``F(α, ρcT, t) = -α ∇ρcT`` is the second-order flux"
   ],
   "metadata": {}
  },
  {
   "cell_type": "markdown",
   "source": [
    "with boundary conditions\n",
    " - Fixed temperature ``T_{surface}`` at ``z_{min}`` (non-zero Dirichlet)\n",
    " - No thermal flux at ``z_{min}`` (zero Neumann)"
   ],
   "metadata": {}
  },
  {
   "cell_type": "markdown",
   "source": [
    "Solving these equations is broken down into the following steps:\n",
    "1) Preliminary configuration\n",
    "2) PDEs\n",
    "3) Space discretization\n",
    "4) Time discretization\n",
    "5) Solver hooks / callbacks\n",
    "6) Solve\n",
    "7) Post-processing"
   ],
   "metadata": {}
  },
  {
   "cell_type": "markdown",
   "source": [
    "# Preliminary configuration"
   ],
   "metadata": {}
  },
  {
   "cell_type": "markdown",
   "source": [
    "## Loading code"
   ],
   "metadata": {}
  },
  {
   "cell_type": "markdown",
   "source": [
    "First, we'll load our pre-requisites\n",
    " - load external packages:"
   ],
   "metadata": {}
  },
  {
   "outputs": [],
   "cell_type": "code",
   "source": [
    "using MPI\n",
    "using NCDatasets\n",
    "using OrderedCollections\n",
    "using Plots\n",
    "using StaticArrays"
   ],
   "metadata": {},
   "execution_count": 1
  },
  {
   "cell_type": "markdown",
   "source": [
    " - load necessary ClimateMachine modules:"
   ],
   "metadata": {}
  },
  {
   "outputs": [],
   "cell_type": "code",
   "source": [
    "using ClimateMachine\n",
    "using ClimateMachine.Mesh.Topologies\n",
    "using ClimateMachine.Mesh.Grids\n",
    "using ClimateMachine.Writers\n",
    "using ClimateMachine.DGmethods\n",
    "using ClimateMachine.DGmethods.NumericalFluxes\n",
    "using ClimateMachine.DGmethods: BalanceLaw, LocalGeometry\n",
    "using ClimateMachine.MPIStateArrays\n",
    "using ClimateMachine.GenericCallbacks\n",
    "using ClimateMachine.ODESolvers\n",
    "using ClimateMachine.VariableTemplates"
   ],
   "metadata": {},
   "execution_count": 2
  },
  {
   "cell_type": "markdown",
   "source": [
    " - import necessary ClimateMachine modules: (`import` indicates that we must provide implementations of these structs/methods)"
   ],
   "metadata": {}
  },
  {
   "outputs": [],
   "cell_type": "code",
   "source": [
    "import ClimateMachine.DGmethods:\n",
    "    vars_state_auxiliary,\n",
    "    vars_state_conservative,\n",
    "    vars_state_gradient,\n",
    "    vars_state_gradient_flux,\n",
    "    source!,\n",
    "    flux_second_order!,\n",
    "    flux_first_order!,\n",
    "    compute_gradient_argument!,\n",
    "    compute_gradient_flux!,\n",
    "    update_auxiliary_state!,\n",
    "    nodal_update_auxiliary_state!,\n",
    "    init_state_auxiliary!,\n",
    "    init_state_conservative!,\n",
    "    boundary_state!"
   ],
   "metadata": {},
   "execution_count": 3
  },
  {
   "cell_type": "markdown",
   "source": [
    "## Initialization"
   ],
   "metadata": {}
  },
  {
   "cell_type": "markdown",
   "source": [
    "Define the float type (`Float64` or `Float32`)"
   ],
   "metadata": {}
  },
  {
   "outputs": [],
   "cell_type": "code",
   "source": [
    "FT = Float64;"
   ],
   "metadata": {},
   "execution_count": 4
  },
  {
   "cell_type": "markdown",
   "source": [
    "Initialize ClimateMachine for CPU."
   ],
   "metadata": {}
  },
  {
   "outputs": [],
   "cell_type": "code",
   "source": [
    "ClimateMachine.init(; disable_gpu = true);\n",
    "\n",
    "const clima_dir = dirname(dirname(pathof(ClimateMachine)));"
   ],
   "metadata": {},
   "execution_count": 5
  },
  {
   "cell_type": "markdown",
   "source": [
    "Load some helper functions (soon to be incorporated into `ClimateMachine/src`)"
   ],
   "metadata": {}
  },
  {
   "outputs": [],
   "cell_type": "code",
   "source": [
    "include(joinpath(clima_dir, \"tutorials\", \"Land\", \"helper_funcs.jl\"));\n",
    "include(joinpath(clima_dir, \"tutorials\", \"Land\", \"plotting_funcs.jl\"));"
   ],
   "metadata": {},
   "execution_count": 6
  },
  {
   "cell_type": "markdown",
   "source": [
    "# Define the set of Partial Differential Equations (PDEs)"
   ],
   "metadata": {}
  },
  {
   "cell_type": "markdown",
   "source": [
    "## Define the model"
   ],
   "metadata": {}
  },
  {
   "cell_type": "markdown",
   "source": [
    "Model parameters can be stored in the particular `BalanceLaw`, in this case, a `HeatModel`:"
   ],
   "metadata": {}
  },
  {
   "outputs": [],
   "cell_type": "code",
   "source": [
    "Base.@kwdef struct HeatModel{FT} <: BalanceLaw\n",
    "    \"Heat capacity\"\n",
    "    ρc::FT = 1\n",
    "    \"Thermal diffusivity\"\n",
    "    α::FT = 0.01\n",
    "    \"Initial conditions for temperature\"\n",
    "    initialT::FT = 295.15\n",
    "    \"Bottom boundary value for temperature (Dirichlet boundary conditions)\"\n",
    "    T_bottom::FT = 300.0\n",
    "    \"Top flux (α∇ρcT) at top boundary (Neumann boundary conditions)\"\n",
    "    flux_top::FT = 0.0\n",
    "end"
   ],
   "metadata": {},
   "execution_count": 7
  },
  {
   "cell_type": "markdown",
   "source": [
    "Create an instance of the `HeatModel`:"
   ],
   "metadata": {}
  },
  {
   "outputs": [],
   "cell_type": "code",
   "source": [
    "m = HeatModel{FT}();"
   ],
   "metadata": {},
   "execution_count": 8
  },
  {
   "cell_type": "markdown",
   "source": [
    "This model dictates the flow control, using [Dynamic Multiple Dispatch](https://en.wikipedia.org/wiki/Multiple_dispatch), for which kernels are executed."
   ],
   "metadata": {}
  },
  {
   "cell_type": "markdown",
   "source": [
    "## Define the variables"
   ],
   "metadata": {}
  },
  {
   "cell_type": "markdown",
   "source": [
    "All of the methods defined below, in this section, were `import`ed in Loading code, and we must provide our own implementation as these methods are called inside `solve!` in the Solve section below. Each of these methods have a fall-back of \"do nothing\" if we don't, or fail to, implement these methods after `import`ing."
   ],
   "metadata": {}
  },
  {
   "cell_type": "markdown",
   "source": [
    "Specify auxiliary variables for `HeatModel`"
   ],
   "metadata": {}
  },
  {
   "outputs": [],
   "cell_type": "code",
   "source": [
    "vars_state_auxiliary(::HeatModel, FT) = @vars(z::FT, T::FT);"
   ],
   "metadata": {},
   "execution_count": 9
  },
  {
   "cell_type": "markdown",
   "source": [
    "Specify state variables, the variables solved for in the PDEs, for `HeatModel`"
   ],
   "metadata": {}
  },
  {
   "outputs": [],
   "cell_type": "code",
   "source": [
    "vars_state_conservative(::HeatModel, FT) = @vars(ρcT::FT);"
   ],
   "metadata": {},
   "execution_count": 10
  },
  {
   "cell_type": "markdown",
   "source": [
    "Specify state variables whose gradients are needed for `HeatModel`"
   ],
   "metadata": {}
  },
  {
   "outputs": [],
   "cell_type": "code",
   "source": [
    "vars_state_gradient(::HeatModel, FT) = @vars(ρcT::FT);"
   ],
   "metadata": {},
   "execution_count": 11
  },
  {
   "cell_type": "markdown",
   "source": [
    "Specify gradient variables for `HeatModel`"
   ],
   "metadata": {}
  },
  {
   "outputs": [],
   "cell_type": "code",
   "source": [
    "vars_state_gradient_flux(::HeatModel, FT) = @vars(α∇ρcT::SVector{3, FT});"
   ],
   "metadata": {},
   "execution_count": 12
  },
  {
   "cell_type": "markdown",
   "source": [
    "## Define the compute kernels"
   ],
   "metadata": {}
  },
  {
   "cell_type": "markdown",
   "source": [
    "Specify the initial values in `aux::Vars`, which are available in `init_state_conservative!`. Note that\n",
    "- this method is only called at `t=0`\n",
    "- `aux.z` and `aux.T` are available here because we've specified `z` and `T` in `vars_state_auxiliary`"
   ],
   "metadata": {}
  },
  {
   "outputs": [],
   "cell_type": "code",
   "source": [
    "function init_state_auxiliary!(m::HeatModel, aux::Vars, geom::LocalGeometry)\n",
    "    aux.z = geom.coord[3]\n",
    "    aux.T = m.initialT\n",
    "end;"
   ],
   "metadata": {},
   "execution_count": 13
  },
  {
   "cell_type": "markdown",
   "source": [
    "Specify the initial values in `state::Vars`. Note that\n",
    "- this method is only called at `t=0`\n",
    "- `state.ρcT` is available here because we've specified `ρcT` in `vars_state_conservative`"
   ],
   "metadata": {}
  },
  {
   "outputs": [],
   "cell_type": "code",
   "source": [
    "function init_state_conservative!(\n",
    "    m::HeatModel,\n",
    "    state::Vars,\n",
    "    aux::Vars,\n",
    "    coords,\n",
    "    t::Real,\n",
    ")\n",
    "    state.ρcT = m.ρc * aux.T\n",
    "end;"
   ],
   "metadata": {},
   "execution_count": 14
  },
  {
   "cell_type": "markdown",
   "source": [
    "The remaining methods, defined in this section, are called at every time-step in the solver by the `BalanceLaw` framework."
   ],
   "metadata": {}
  },
  {
   "cell_type": "markdown",
   "source": [
    "Overload `update_auxiliary_state!` to call `heat_eq_nodal_update_aux!`, or any other auxiliary methods"
   ],
   "metadata": {}
  },
  {
   "outputs": [],
   "cell_type": "code",
   "source": [
    "function update_auxiliary_state!(\n",
    "    dg::DGModel,\n",
    "    m::HeatModel,\n",
    "    Q::MPIStateArray,\n",
    "    t::Real,\n",
    "    elems::UnitRange,\n",
    ")\n",
    "    nodal_update_auxiliary_state!(heat_eq_nodal_update_aux!, dg, m, Q, t, elems)\n",
    "    return true # TODO: remove return true\n",
    "end;"
   ],
   "metadata": {},
   "execution_count": 15
  },
  {
   "cell_type": "markdown",
   "source": [
    "Compute/update all auxiliary variables at each node. Note that\n",
    "- `aux.T` is available here because we've specified `T` in `vars_state_auxiliary`"
   ],
   "metadata": {}
  },
  {
   "outputs": [],
   "cell_type": "code",
   "source": [
    "function heat_eq_nodal_update_aux!(\n",
    "    m::HeatModel,\n",
    "    state::Vars,\n",
    "    aux::Vars,\n",
    "    t::Real,\n",
    ")\n",
    "    aux.T = state.ρcT / m.ρc\n",
    "end;"
   ],
   "metadata": {},
   "execution_count": 16
  },
  {
   "cell_type": "markdown",
   "source": [
    "Since we have second-order fluxes, we must tell `ClimateMachine` to compute the gradient of `ρcT`. Here, we specify how `ρcT` is computed. Note that\n",
    " - `transform.ρcT` is available here because we've specified `ρcT` in `vars_state_gradient`"
   ],
   "metadata": {}
  },
  {
   "outputs": [],
   "cell_type": "code",
   "source": [
    "function compute_gradient_argument!(\n",
    "    m::HeatModel,\n",
    "    transform::Vars,\n",
    "    state::Vars,\n",
    "    aux::Vars,\n",
    "    t::Real,\n",
    ")\n",
    "    transform.ρcT = state.ρcT\n",
    "end;"
   ],
   "metadata": {},
   "execution_count": 17
  },
  {
   "cell_type": "markdown",
   "source": [
    "Specify where in `diffusive::Vars` to store the computed gradient from `compute_gradient_argument!`. Note that:\n",
    " - `diffusive.α∇ρcT` is available here because we've specified `α∇ρcT` in `vars_state_gradient_flux`\n",
    " - `∇transform.ρcT` is available here because we've specified `ρcT`  in `vars_state_gradient`"
   ],
   "metadata": {}
  },
  {
   "outputs": [],
   "cell_type": "code",
   "source": [
    "function compute_gradient_flux!(\n",
    "    m::HeatModel,\n",
    "    diffusive::Vars,\n",
    "    ∇transform::Grad,\n",
    "    state::Vars,\n",
    "    aux::Vars,\n",
    "    t::Real,\n",
    ")\n",
    "    diffusive.α∇ρcT = m.α * ∇transform.ρcT\n",
    "end;"
   ],
   "metadata": {},
   "execution_count": 18
  },
  {
   "cell_type": "markdown",
   "source": [
    "We do no have sources, nor non-diffusive fluxes."
   ],
   "metadata": {}
  },
  {
   "outputs": [],
   "cell_type": "code",
   "source": [
    "function source!(m::HeatModel, _...) end;\n",
    "function flux_first_order!(\n",
    "    m::HeatModel,\n",
    "    flux::Grad,\n",
    "    state::Vars,\n",
    "    aux::Vars,\n",
    "    t::Real,\n",
    ") end;"
   ],
   "metadata": {},
   "execution_count": 19
  },
  {
   "cell_type": "markdown",
   "source": [
    "Compute diffusive flux (``F(α, ρcT, t) = -α ∇ρcT`` in the original PDE). Note that:\n",
    "- `diffusive.α∇ρcT` is available here because we've specified `α∇ρcT` in `vars_state_gradient_flux`"
   ],
   "metadata": {}
  },
  {
   "outputs": [],
   "cell_type": "code",
   "source": [
    "function flux_second_order!(\n",
    "    m::HeatModel,\n",
    "    flux::Grad,\n",
    "    state::Vars,\n",
    "    diffusive::Vars,\n",
    "    hyperdiffusive::Vars,\n",
    "    aux::Vars,\n",
    "    t::Real,\n",
    ")\n",
    "    flux.ρcT -= diffusive.α∇ρcT\n",
    "end;"
   ],
   "metadata": {},
   "execution_count": 20
  },
  {
   "cell_type": "markdown",
   "source": [
    "### Boundary conditions"
   ],
   "metadata": {}
  },
  {
   "cell_type": "markdown",
   "source": [
    "Second-order terms in our equations, ``∇⋅(G)`` where ``G = α∇ρcT``, are internally reformulated to first-order unknowns.\n",
    "Boundary conditions must be specified for all unknowns, both first-order and second-order unknowns which have been reformulated."
   ],
   "metadata": {}
  },
  {
   "cell_type": "markdown",
   "source": [
    "The boundary conditions for `ρcT` (first order unknown)"
   ],
   "metadata": {}
  },
  {
   "outputs": [],
   "cell_type": "code",
   "source": [
    "function boundary_state!(\n",
    "    nf,\n",
    "    m::HeatModel,\n",
    "    state⁺::Vars,\n",
    "    aux⁺::Vars,\n",
    "    n⁻,\n",
    "    state⁻::Vars,\n",
    "    aux⁻::Vars,\n",
    "    bctype,\n",
    "    t,\n",
    "    _...,\n",
    ")\n",
    "    if bctype == 1 # bottom\n",
    "        state⁺.ρcT = m.ρc * m.T_bottom\n",
    "    elseif bctype == 2 # top\n",
    "        nothing\n",
    "    end\n",
    "end;"
   ],
   "metadata": {},
   "execution_count": 21
  },
  {
   "cell_type": "markdown",
   "source": [
    "The boundary conditions for `ρcT` are specified here for second-order unknowns"
   ],
   "metadata": {}
  },
  {
   "outputs": [],
   "cell_type": "code",
   "source": [
    "function boundary_state!(\n",
    "    nf,\n",
    "    m::HeatModel,\n",
    "    state⁺::Vars,\n",
    "    diff⁺::Vars,\n",
    "    aux⁺::Vars,\n",
    "    n⁻,\n",
    "    state⁻::Vars,\n",
    "    diff⁻::Vars,\n",
    "    aux⁻::Vars,\n",
    "    bctype,\n",
    "    t,\n",
    "    _...,\n",
    ")\n",
    "    if bctype == 1 # bottom\n",
    "        state⁺.ρcT = m.ρc * m.T_bottom\n",
    "    elseif bctype == 2 # top\n",
    "        diff⁺.α∇ρcT = -n⁻ * m.flux_top\n",
    "    end\n",
    "end;"
   ],
   "metadata": {},
   "execution_count": 22
  },
  {
   "cell_type": "markdown",
   "source": [
    "# Spatial discretization"
   ],
   "metadata": {}
  },
  {
   "cell_type": "markdown",
   "source": [
    "Prescribe vector of vertical elements (in meters)"
   ],
   "metadata": {}
  },
  {
   "outputs": [],
   "cell_type": "code",
   "source": [
    "velems = collect(0:10) / 10;"
   ],
   "metadata": {},
   "execution_count": 23
  },
  {
   "cell_type": "markdown",
   "source": [
    "Prescribe polynomial order of basis functions in finite elements"
   ],
   "metadata": {}
  },
  {
   "outputs": [],
   "cell_type": "code",
   "source": [
    "N_poly = 5;"
   ],
   "metadata": {},
   "execution_count": 24
  },
  {
   "cell_type": "markdown",
   "source": [
    "Define a grid"
   ],
   "metadata": {}
  },
  {
   "outputs": [],
   "cell_type": "code",
   "source": [
    "grid = SingleStackGrid(MPI, velems, N_poly, FT, Array);"
   ],
   "metadata": {},
   "execution_count": 25
  },
  {
   "cell_type": "markdown",
   "source": [
    "Configure the DG model, based on the PDEs, grid and penalty terms"
   ],
   "metadata": {}
  },
  {
   "outputs": [],
   "cell_type": "code",
   "source": [
    "dg = DGModel(\n",
    "    m,\n",
    "    grid,\n",
    "    CentralNumericalFluxFirstOrder(),\n",
    "    CentralNumericalFluxSecondOrder(),\n",
    "    CentralNumericalFluxGradient(),\n",
    ");"
   ],
   "metadata": {},
   "execution_count": 26
  },
  {
   "cell_type": "markdown",
   "source": [
    "# Time discretization"
   ],
   "metadata": {}
  },
  {
   "cell_type": "markdown",
   "source": [
    "We'll define the time-step based on the [Fourier number](https://en.wikipedia.org/wiki/Fourier_number)"
   ],
   "metadata": {}
  },
  {
   "outputs": [
    {
     "output_type": "execute_result",
     "data": {
      "text/plain": "0.0011039800162777238"
     },
     "metadata": {},
     "execution_count": 27
    }
   ],
   "cell_type": "code",
   "source": [
    "Δ = min_node_distance(grid)\n",
    "\n",
    "given_Fourier = FT(0.08);\n",
    "Fourier_bound = given_Fourier * Δ^2 / m.α;\n",
    "dt = Fourier_bound"
   ],
   "metadata": {},
   "execution_count": 27
  },
  {
   "cell_type": "markdown",
   "source": [
    "## Initialize the state vector\n",
    "This initializes the state vector and allocates memory for the solution in space (`dg` has the model `m`, which describes the PDEs as well as the function used for initialization):"
   ],
   "metadata": {}
  },
  {
   "outputs": [],
   "cell_type": "code",
   "source": [
    "Q = init_ode_state(dg, FT(0));"
   ],
   "metadata": {},
   "execution_count": 28
  },
  {
   "cell_type": "markdown",
   "source": [
    "## Initialize the ODE solver\n",
    "Here, we use an explicit Low-Storage [Runge-Kutta](https://en.wikipedia.org/wiki/Runge%E2%80%93Kutta_methods) method"
   ],
   "metadata": {}
  },
  {
   "outputs": [],
   "cell_type": "code",
   "source": [
    "lsrk = LSRK54CarpenterKennedy(dg, Q; dt = dt, t0 = 0);"
   ],
   "metadata": {},
   "execution_count": 29
  },
  {
   "cell_type": "markdown",
   "source": [
    "## Inspect the initial conditions"
   ],
   "metadata": {}
  },
  {
   "cell_type": "markdown",
   "source": [
    "Let's export a plot of the initial state"
   ],
   "metadata": {}
  },
  {
   "outputs": [],
   "cell_type": "code",
   "source": [
    "output_dir = @__DIR__;\n",
    "\n",
    "mkpath(output_dir);\n",
    "\n",
    "z_scale = 100 # convert from meters to cm\n",
    "z_key = \"z\"\n",
    "z_label = \"z [cm]\"\n",
    "z = get_z(grid, z_scale)\n",
    "state_vars = get_vars_from_stack(grid, Q, m, vars_state_conservative);\n",
    "aux_vars =\n",
    "    get_vars_from_stack(grid, dg.state_auxiliary, m, vars_state_auxiliary);\n",
    "all_vars = OrderedDict(state_vars..., aux_vars...);\n",
    "export_plot_snapshot(\n",
    "    z,\n",
    "    all_vars,\n",
    "    (\"ρcT\",),\n",
    "    joinpath(output_dir, \"initial_condition.png\"),\n",
    "    z_label,\n",
    ");"
   ],
   "metadata": {},
   "execution_count": 30
  },
  {
   "cell_type": "markdown",
   "source": [
    "![](initial_condition.png)"
   ],
   "metadata": {}
  },
  {
   "cell_type": "markdown",
   "source": [
    "It matches what we have in `init_state_conservative!(m::HeatModel, ...)`, so let's continue."
   ],
   "metadata": {}
  },
  {
   "cell_type": "markdown",
   "source": [
    "# Solver hooks / callbacks"
   ],
   "metadata": {}
  },
  {
   "cell_type": "markdown",
   "source": [
    "Define simulation time (all units are SI) and number of outputs over this interval"
   ],
   "metadata": {}
  },
  {
   "outputs": [],
   "cell_type": "code",
   "source": [
    "const timeend = 40;\n",
    "const n_outputs = 5;"
   ],
   "metadata": {},
   "execution_count": 31
  },
  {
   "cell_type": "markdown",
   "source": [
    "This equates to exports every ceil(Int, timeend/n_outputs) time-step:"
   ],
   "metadata": {}
  },
  {
   "outputs": [],
   "cell_type": "code",
   "source": [
    "const every_x_simulation_time = ceil(Int, timeend / n_outputs);"
   ],
   "metadata": {},
   "execution_count": 32
  },
  {
   "cell_type": "markdown",
   "source": [
    "Create a dictionary for `z` coordinate (and convert to cm) NCDatasets IO:"
   ],
   "metadata": {}
  },
  {
   "outputs": [],
   "cell_type": "code",
   "source": [
    "dims = OrderedDict(z_key => collect(z));"
   ],
   "metadata": {},
   "execution_count": 33
  },
  {
   "cell_type": "markdown",
   "source": [
    "Create a DataFile, which is callable to get the name of each file given a step"
   ],
   "metadata": {}
  },
  {
   "outputs": [],
   "cell_type": "code",
   "source": [
    "output_data = DataFile(joinpath(output_dir, \"output_data\"));"
   ],
   "metadata": {},
   "execution_count": 34
  },
  {
   "cell_type": "markdown",
   "source": [
    "ClimateMachine's time-steppers provide hooks, or callbacks, which allow users to inject code to be executed at specified intervals. In this callback, the state and aux variables are collected, combined into a single `OrderedDict` and written to a NetCDF file (for each output step `step`)."
   ],
   "metadata": {}
  },
  {
   "outputs": [],
   "cell_type": "code",
   "source": [
    "step = [0];\n",
    "callback = GenericCallbacks.EveryXSimulationTime(\n",
    "    every_x_simulation_time,\n",
    "    lsrk,\n",
    ") do (init = false)\n",
    "    state_vars = get_vars_from_stack(grid, Q, m, vars_state_conservative)\n",
    "    aux_vars = get_vars_from_stack(\n",
    "        grid,\n",
    "        dg.state_auxiliary,\n",
    "        m,\n",
    "        vars_state_auxiliary;\n",
    "        exclude = [z_key],\n",
    "    )\n",
    "    all_vars = OrderedDict(state_vars..., aux_vars...)\n",
    "    all_vars = prep_for_io(z_label, all_vars)\n",
    "    write_data(\n",
    "        NetCDFWriter(),\n",
    "        output_data(step[1]),\n",
    "        dims,\n",
    "        all_vars,\n",
    "        gettime(lsrk),\n",
    "    )\n",
    "    step[1] += 1\n",
    "    nothing\n",
    "end;"
   ],
   "metadata": {},
   "execution_count": 35
  },
  {
   "cell_type": "markdown",
   "source": [
    "# Solve"
   ],
   "metadata": {}
  },
  {
   "cell_type": "markdown",
   "source": [
    "This is the main \"solve\" method call. While users do not have access to the time-stepping loop, code and function calls may be injected via `callbacks` keyword argument, which is a `Tuple` of `GenericCallbacks`."
   ],
   "metadata": {}
  },
  {
   "outputs": [],
   "cell_type": "code",
   "source": [
    "solve!(Q, lsrk; timeend = timeend, callbacks = (callback,));"
   ],
   "metadata": {},
   "execution_count": 36
  },
  {
   "cell_type": "markdown",
   "source": [
    "# Post-processing"
   ],
   "metadata": {}
  },
  {
   "cell_type": "markdown",
   "source": [
    "Our solution has now been calculated and exported to NetCDF files in `output_dir`. Let's collect them all into a nested dictionary whose keys are the output interval. The next level keys are the variable names, and the values are the values along the grid:"
   ],
   "metadata": {}
  },
  {
   "outputs": [],
   "cell_type": "code",
   "source": [
    "all_data = collect_data(output_data, step[1]);"
   ],
   "metadata": {},
   "execution_count": 37
  },
  {
   "cell_type": "markdown",
   "source": [
    "To get `T` at ``t=0``, we can use `T_at_t_0 = all_data[0][\"T\"][:]`"
   ],
   "metadata": {}
  },
  {
   "outputs": [
    {
     "name": "stdout",
     "output_type": "stream",
     "text": [
      "keys(all_data[0]) = [\"T\", \"t\", \"simtime\", \"z\", \"ρcT\"]\n"
     ]
    },
    {
     "output_type": "execute_result",
     "data": {
      "text/plain": "Base.KeySet for a Dict{String,Array{Any,1}} with 5 entries. Keys:\n  \"T\"\n  \"t\"\n  \"simtime\"\n  \"z\"\n  \"ρcT\""
     },
     "metadata": {},
     "execution_count": 38
    }
   ],
   "cell_type": "code",
   "source": [
    "@show keys(all_data[0])"
   ],
   "metadata": {},
   "execution_count": 38
  },
  {
   "cell_type": "markdown",
   "source": [
    "Let's plot the solution:"
   ],
   "metadata": {}
  },
  {
   "outputs": [],
   "cell_type": "code",
   "source": [
    "export_plot(z, all_data, (\"ρcT\",), joinpath(output_dir, \"solution_vs_time.png\"), z_label);"
   ],
   "metadata": {},
   "execution_count": 39
  },
  {
   "cell_type": "markdown",
   "source": [
    "![](solution_vs_time.png)"
   ],
   "metadata": {}
  },
  {
   "cell_type": "markdown",
   "source": [
    "The results look as we would expect: a fixed temperature at the bottom is resulting in heat flux that propagates up the domain. To run this file, and inspect the solution in `all_data`, include this tutorial in the Julia REPL with:"
   ],
   "metadata": {}
  },
  {
   "cell_type": "markdown",
   "source": [
    "```julia\n",
    "include(joinpath(\"tutorials\", \"Land\", \"Heat\", \"heat_equation.jl\"))\n",
    "```"
   ],
   "metadata": {}
  },
  {
   "cell_type": "markdown",
   "source": [
    "---\n",
    "\n",
    "*This notebook was generated using [Literate.jl](https://github.com/fredrikekre/Literate.jl).*"
   ],
   "metadata": {}
  }
 ],
 "nbformat_minor": 3,
 "metadata": {
  "language_info": {
   "file_extension": ".jl",
   "mimetype": "application/julia",
   "name": "julia",
   "version": "1.3.1"
  },
  "kernelspec": {
   "name": "julia-1.3",
   "display_name": "Julia 1.3.1",
   "language": "julia"
  }
 },
 "nbformat": 4
}
